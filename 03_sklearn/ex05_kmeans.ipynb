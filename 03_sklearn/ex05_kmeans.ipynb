{
 "cells": [
  {
   "cell_type": "code",
   "execution_count": 19,
   "metadata": {},
   "outputs": [
    {
     "name": "stdout",
     "output_type": "stream",
     "text": [
      "    국어점수  영어점수\n",
      "0     90    80\n",
      "1     90    75\n",
      "2     90    90\n",
      "3     80    20\n",
      "4     80    30\n",
      "5     80    30\n",
      "6     77    40\n",
      "7     77    60\n",
      "8     40    60\n",
      "9     20    50\n",
      "10    30    80\n",
      "11    30    80\n",
      "12    40    77\n",
      "13    60    77\n",
      "14    20    40\n",
      "15    75    75\n",
      "16    80    90\n",
      "17    75    90\n",
      "18    90    90\n",
      "19    20    80\n",
      "20    30    80\n",
      "21    30    80\n",
      "22    40    77\n",
      "23    60    77\n",
      "24    80    40\n",
      "25    75    20\n",
      "26    90    30\n",
      "27    20    30\n",
      "28    30    40\n",
      "29    30    60\n",
      "30    40    20\n",
      "31    60    75\n",
      "클러스터 레이블  [0 0 0 2 2 2 2 0 1 1 1 1 1 0 1 0 0 0 0 1 1 1 1 0 2 2 2 1 1 1 2 0]\n"
     ]
    },
    {
     "data": {
      "image/png": "[encoded data removed]",
      "text/plain": [
       "<Figure size 432x288 with 1 Axes>"
      ]
     },
     "metadata": {
      "needs_background": "light"
     },
     "output_type": "display_data"
    }
   ],
   "source": [
    "# 성적으로 클래스 구분하는 프로그램 만들어 보기\n",
    "# 성적 : 국어점수, 영어점수\n",
    "# 군집, 그룹 ... : 3개\n",
    "\n",
    "'''\n",
    "비지도 학습 개발 단계(의사 코드)\n",
    "1단계 - library import\n",
    "2단계 - 데이터는 제공받았다는 전제하에 데이터 확인\n",
    "3단계 - 데이터 정제(육안. 데이터 많을경우에 전처리 API)\n",
    "4단계 - 정제된 데이터를 read(pandas 사용)\n",
    "5단계 - 몇개의 군집으로 개발할 것인지 설정(3)\n",
    "6단계 - 학습시키기(fit)\n",
    "7단계 - 차트화 하기(mglearn 사용)\n",
    "8단계 - 예측(predict)\n",
    "\n",
    "'''\n",
    "\n",
    "import mglearn\n",
    "import matplotlib.pyplot as plt\n",
    "import pandas as pd\n",
    "import matplotlib.pyplot as plt \n",
    "import matplotlib\n",
    "from matplotlib import font_manager, rc\n",
    "from sklearn.cluster import KMeans\n",
    "\n",
    "# matplotlib로 한글 데이터 사용 가능하게 하는 설정\n",
    "# os 내에 설치된 한글 또는 임의로 설치해서 사용 가능\n",
    "font_location=\"c:/Windows/fonts/malgun.ttf\"\n",
    "font_name = font_manager.FontProperties(fname=font_location).get_name()\n",
    "matplotlib.rc(\"font\", family=font_name)\n",
    "\n",
    "# 점수를 보유한 ex05~.csv 로 DataFrame 생성하기\n",
    "data = pd.read_csv(\"ex05_academy1.csv\")\n",
    "print(data.iloc[:, 1:])\n",
    "\n",
    "# 군집 모델 구성\n",
    "kmeans = KMeans(n_clusters=3)\n",
    "kmeans.fit(data.iloc[:, 1:])\n",
    "\n",
    "print(\"클러스터 레이블 \", kmeans.labels_)\n",
    "\n",
    "mglearn.discrete_scatter(data.iloc[:, 1], data.iloc[:, 2], kmeans.labels_)\n",
    "plt.legend([\"클러스터 0\", \"클러스터 1\", \"클러스터 2\"], loc=\"best\")\n",
    "plt.xlabel(\"국어 점수\")\n",
    "plt.ylabel(\"영어 점수\")\n",
    "plt.show()\n"
   ]
  },
  {
   "cell_type": "code",
   "execution_count": 56,
   "metadata": {},
   "outputs": [
    {
     "name": "stdout",
     "output_type": "stream",
     "text": [
      "    국어점수  영어점수  수학점수  과학점수  학업성취도\n",
      "0     90    80    80    80     80\n",
      "1     90    75    75    75     75\n",
      "2     65    90    90    90     90\n",
      "3     90    80    80    80     80\n",
      "4     90    75    75    75     75\n",
      "5     65    90    90    90     90\n",
      "6     90    80    80    80     80\n",
      "7     90    75    75    75     75\n",
      "8     65    90    60    88     80\n",
      "9     90    80    60    30     40\n",
      "10    90    75    85    60     70\n",
      "11    65    90    60    88     80\n",
      "12    90    30    40    30     40\n",
      "13    90    60    70    60     70\n",
      "14    65    88    80    88     80\n",
      "15    90    30    40    30     40\n",
      "16    90    60    70    60     70\n",
      "17    65    88    80    88     80\n",
      "학생번호: 0 : 2\n",
      "학생번호: 1 : 2\n",
      "학생번호: 2 : 0\n",
      "학생번호: 3 : 2\n",
      "학생번호: 4 : 2\n",
      "학생번호: 5 : 0\n",
      "학생번호: 6 : 2\n",
      "학생번호: 7 : 2\n",
      "학생번호: 8 : 0\n",
      "학생번호: 9 : 1\n",
      "학생번호: 10 : 2\n",
      "학생번호: 11 : 0\n",
      "학생번호: 12 : 1\n",
      "학생번호: 13 : 2\n",
      "학생번호: 14 : 0\n",
      "학생번호: 15 : 1\n",
      "학생번호: 16 : 2\n",
      "학생번호: 17 : 0\n",
      "[2]\n"
     ]
    }
   ],
   "source": [
    "\n",
    "\n",
    "import mglearn\n",
    "import matplotlib.pyplot as plt\n",
    "import pandas as pd\n",
    "import matplotlib.pyplot as plt \n",
    "import matplotlib\n",
    "from matplotlib import font_manager, rc\n",
    "from sklearn.cluster import KMeans\n",
    "\n",
    "# matplotlib로 한글 데이터 사용 가능하게 하는 설정\n",
    "# os 내에 설치된 한글 또는 임의로 설치해서 사용 가능\n",
    "font_location=\"c:/Windows/fonts/malgun.ttf\"\n",
    "font_name = font_manager.FontProperties(fname=font_location).get_name()\n",
    "matplotlib.rc(\"font\", family=font_name)\n",
    "\n",
    "# 점수를 보유한 ex05~.csv 로 DataFrame 생성하기\n",
    "data = pd.read_csv(\"ex05_academy2.csv\")\n",
    "print(data.iloc[:, 1:])\n",
    "\n",
    "kmeans = KMeans(n_clusters=3)\n",
    "kmeans.fit(data.iloc[:, 1:])\n",
    "\n",
    "for no, cla in enumerate(kmeans.labels_):\n",
    "    print(\"학생번호: {} : {}\".format(no, cla))\n",
    "\n",
    "print(kmeans.predict([[100,80,70,70,70]]))"
   ]
  },
  {
   "cell_type": "code",
   "execution_count": 52,
   "metadata": {},
   "outputs": [
    {
     "name": "stdout",
     "output_type": "stream",
     "text": [
      "    학번  국어점수  영어점수  수학점수  과학점수  학업성취도\n",
      "0    1    90    80    80    80     80\n",
      "1    2    90    75    75    75     75\n",
      "2    3    65    90    90    90     90\n",
      "3    4    90    80    80    80     80\n",
      "4    5    90    75    75    75     75\n",
      "5    6    65    90    90    90     90\n",
      "6    7    90    80    80    80     80\n",
      "7    8    90    75    75    75     75\n",
      "8    9    65    90    60    88     80\n",
      "9   10    90    80    60    30     40\n",
      "10  11    90    75    85    60     70\n",
      "11  12    65    90    60    88     80\n",
      "12  13    90    30    40    30     40\n",
      "13  14    90    60    70    60     70\n",
      "14  15    65    88    80    88     80\n",
      "15  16    90    30    40    30     40\n",
      "16  17    90    60    70    60     70\n",
      "17  18    65    88    80    88     80\n"
     ]
    }
   ],
   "source": [
    "print(data)"
   ]
  },
  {
   "cell_type": "code",
   "execution_count": null,
   "metadata": {},
   "outputs": [],
   "source": []
  }
 ],
 "metadata": {
  "kernelspec": {
   "display_name": "Python 3",
   "language": "python",
   "name": "python3"
  },
  "language_info": {
   "codemirror_mode": {
    "name": "ipython",
    "version": 3
   },
   "file_extension": ".py",
   "mimetype": "text/x-python",
   "name": "python",
   "nbconvert_exporter": "python",
   "pygments_lexer": "ipython3",
   "version": "3.7.0"
  }
 },
 "nbformat": 4,
 "nbformat_minor": 2
}
