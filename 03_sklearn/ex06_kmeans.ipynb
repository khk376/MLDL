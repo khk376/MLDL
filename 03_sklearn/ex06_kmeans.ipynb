{
 "cells": [
  {
   "cell_type": "code",
   "execution_count": 1,
   "metadata": {},
   "outputs": [
    {
     "name": "stdout",
     "output_type": "stream",
     "text": [
      "    Ticket  Shopping\n",
      "0       10        10\n",
      "1        1         0\n",
      "2        0        50\n",
      "3        0        50\n",
      "4        0        20\n",
      "5        2        10\n",
      "6        4         1\n",
      "7        6         1\n",
      "8        0         1\n",
      "9       10         1\n",
      "10       0         3\n",
      "11      20        20\n",
      "12      50        10\n",
      "13       2         1\n",
      "14       1         2\n",
      "15       1        10\n",
      "16       1        10\n",
      "17       1         1\n",
      "18       4         5\n",
      "19       4         5\n",
      "20       0        22\n",
      "21       0        44\n",
      "22       0        16\n",
      "23       0        12\n",
      "24       0         5\n",
      "25       0        17\n",
      "26       0        21\n",
      "27       0        28\n",
      "28       0        16\n",
      "29      22         1\n",
      "30      25        10\n",
      "31      16         1\n",
      "32      12         1\n",
      "33      30        10\n",
      "34      17         4\n",
      "35      22         4\n",
      "36      23         5\n",
      "37      11         5\n"
     ]
    }
   ],
   "source": [
    "import mglearn\n",
    "import seaborn as sns\n",
    "import matplotlib.pyplot as plt\n",
    "import pandas as pd\n",
    "import matplotlib.pyplot as plt \n",
    "import matplotlib\n",
    "from matplotlib import font_manager, rc\n",
    "from sklearn.cluster import KMeans\n",
    "\n",
    "# matplotlib로 한글 데이터 사용 가능하게 하는 설정\n",
    "# os 내에 설치된 한글 또는 임의로 설치해서 사용 가능\n",
    "font_location=\"c:/Windows/fonts/malgun.ttf\"\n",
    "font_name = font_manager.FontProperties(fname=font_location).get_name()\n",
    "matplotlib.rc(\"font\", family=font_name)\n",
    "\n",
    "# 점수를 보유한 ex05~.csv 로 DataFrame 생성하기\n",
    "data = pd.read_csv(\"ex06_ticket.csv\")\n",
    "print(data)\n",
    "\n"
   ]
  },
  {
   "cell_type": "code",
   "execution_count": 2,
   "metadata": {},
   "outputs": [
    {
     "data": {
      "text/plain": [
       "<seaborn.axisgrid.PairGrid at 0x2080428f160>"
      ]
     },
     "execution_count": 2,
     "metadata": {},
     "output_type": "execute_result"
    },
    {
     "data": {
      "image/png": "[encoded data removed]",
      "text/plain": [
       "<Figure size 360x360 with 6 Axes>"
      ]
     },
     "metadata": {
      "needs_background": "light"
     },
     "output_type": "display_data"
    }
   ],
   "source": [
    "sns.pairplot(data)"
   ]
  },
  {
   "cell_type": "code",
   "execution_count": 3,
   "metadata": {},
   "outputs": [
    {
     "ename": "NameError",
     "evalue": "name 'kmeans' is not defined",
     "output_type": "error",
     "traceback": [
      "\u001b[1;31m---------------------------------------------------------------------------\u001b[0m",
      "\u001b[1;31mNameError\u001b[0m                                 Traceback (most recent call last)",
      "\u001b[1;32m<ipython-input-3-ab971fdeb725>\u001b[0m in \u001b[0;36m<module>\u001b[1;34m()\u001b[0m\n\u001b[1;32m----> 1\u001b[1;33m \u001b[0mc\u001b[0m \u001b[1;33m=\u001b[0m \u001b[0mpd\u001b[0m\u001b[1;33m.\u001b[0m\u001b[0mDataFrame\u001b[0m\u001b[1;33m(\u001b[0m\u001b[0mkmeans\u001b[0m\u001b[1;33m.\u001b[0m\u001b[0mlabels_\u001b[0m\u001b[1;33m,\u001b[0m \u001b[0mcolumns\u001b[0m \u001b[1;33m=\u001b[0m \u001b[1;33m[\u001b[0m\u001b[1;34m'clusterred'\u001b[0m\u001b[1;33m]\u001b[0m\u001b[1;33m)\u001b[0m\u001b[1;33m\u001b[0m\u001b[0m\n\u001b[0m",
      "\u001b[1;31mNameError\u001b[0m: name 'kmeans' is not defined"
     ]
    }
   ],
   "source": [
    "c = pd.DataFrame(kmeans.labels_, columns = ['clusterred'])"
   ]
  },
  {
   "cell_type": "code",
   "execution_count": null,
   "metadata": {},
   "outputs": [],
   "source": [
    "pd.concat([data, c], axis=1)"
   ]
  },
  {
   "cell_type": "code",
   "execution_count": null,
   "metadata": {},
   "outputs": [],
   "source": [
    "print(data.iloc[:, 1])"
   ]
  },
  {
   "cell_type": "markdown",
   "metadata": {},
   "source": [
    "## 클러스터 : 2"
   ]
  },
  {
   "cell_type": "code",
   "execution_count": null,
   "metadata": {},
   "outputs": [],
   "source": [
    "kmeans = KMeans(n_clusters=2)\n",
    "kmeans.fit(data)\n",
    "\n",
    "print(\"클러스터 레이블\", kmeans.labels_)\n",
    "\n",
    "mglearn.discrete_scatter(data.iloc[:, 0], data.iloc[:, 1], kmeans.labels_)\n",
    "plt.legend([\"클러스터 0\", \"클러스터 1\"], loc=\"best\")\n",
    "plt.xlabel(\"티켓\")\n",
    "plt.ylabel(\"쇼핑\")\n",
    "plt.show()\n"
   ]
  },
  {
   "cell_type": "markdown",
   "metadata": {},
   "source": [
    "## 클러스터 : 3"
   ]
  },
  {
   "cell_type": "code",
   "execution_count": null,
   "metadata": {},
   "outputs": [],
   "source": [
    "kmeans = KMeans(n_clusters=3)\n",
    "kmeans.fit(data)\n",
    "\n",
    "print(\"클러스터 레이블\", kmeans.labels_)\n",
    "\n",
    "mglearn.discrete_scatter(data.iloc[:, 0], data.iloc[:, 1], kmeans.labels_)\n",
    "plt.legend([\"클러스터 0\", \"클러스터 1\"], loc=\"best\")\n",
    "plt.xlabel(\"티켓\")\n",
    "plt.ylabel(\"쇼핑\")\n",
    "plt.show()\n"
   ]
  },
  {
   "cell_type": "code",
   "execution_count": null,
   "metadata": {},
   "outputs": [],
   "source": [
    "mglearn.discrete_scatter(data.iloc[:, 0], data.iloc[:, 1], kmeans.labels_)\n",
    "plt.legend([\"클러스터 0\", \"클러스터 1\", \"클러스터 2\"], loc=\"best\")\n",
    "plt.xlabel(\"티켓\")\n",
    "plt.ylabel(\"쇼핑\")\n",
    "plt.show()\n"
   ]
  },
  {
   "cell_type": "code",
   "execution_count": null,
   "metadata": {},
   "outputs": [],
   "source": []
  },
  {
   "cell_type": "code",
   "execution_count": null,
   "metadata": {},
   "outputs": [],
   "source": []
  },
  {
   "cell_type": "code",
   "execution_count": null,
   "metadata": {},
   "outputs": [],
   "source": []
  }
 ],
 "metadata": {
  "kernelspec": {
   "display_name": "Python 3",
   "language": "python",
   "name": "python3"
  },
  "language_info": {
   "codemirror_mode": {
    "name": "ipython",
    "version": 3
   },
   "file_extension": ".py",
   "mimetype": "text/x-python",
   "name": "python",
   "nbconvert_exporter": "python",
   "pygments_lexer": "ipython3",
   "version": "3.7.0"
  }
 },
 "nbformat": 4,
 "nbformat_minor": 2
}
